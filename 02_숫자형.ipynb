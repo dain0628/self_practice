{
 "cells": [
  {
   "cell_type": "markdown",
   "id": "a837573c-4060-43f4-8853-6fe6e881a63c",
   "metadata": {},
   "source": [
    "# 파이썬 지원 자료형\n",
    "\n",
    "'''\n",
    "- int: 정수\n",
    "- float: 실수\n",
    "- complex: 복소수\n",
    "- bool: 불린 (True, False 의미)\n",
    "- str: 문자열(시퀀스)\n",
    "- list: 리스트(시퀀스)\n",
    "- tuple: 튜플(시퀀스)\n",
    "- set: 집합\n",
    "- dict: 사전\n",
    "\n",
    "'''"
   ]
  },
  {
   "cell_type": "code",
   "execution_count": 31,
   "id": "08a8e4c2-3417-472b-999f-871f805d64cc",
   "metadata": {},
   "outputs": [],
   "source": [
    "#데이터 타입\n",
    "str1= 'python'\n",
    "bool = True\n",
    "str2 = 'anaconda'\n",
    "float_v = 10.0 #10 == 10.0\n",
    "int_v = 7\n",
    "list = [str1, str2]\n",
    "dict = {\n",
    "        \"name\" : \"machine learning\"\n",
    "}\n",
    "tuple = (7, 8, 9) #tuple = 7, 8, 9\n",
    "set = {3, 5, 7}"
   ]
  },
  {
   "cell_type": "code",
   "execution_count": 32,
   "id": "e5212313-caef-4801-810e-81171c08296f",
   "metadata": {},
   "outputs": [
    {
     "name": "stdout",
     "output_type": "stream",
     "text": [
      "<class 'str'>\n",
      "<class 'bool'>\n",
      "<class 'str'>\n",
      "<class 'float'>\n",
      "<class 'int'>\n",
      "<class 'dict'>\n",
      "<class 'tuple'>\n",
      "<class 'set'>\n"
     ]
    }
   ],
   "source": [
    "print(type(str1))\n",
    "print(type(bool))\n",
    "print(type(str2))\n",
    "print(type(float_v))\n",
    "print(type(int_v))\n",
    "print(type(dict))\n",
    "print(type(tuple))\n",
    "print(type(set))"
   ]
  },
  {
   "cell_type": "code",
   "execution_count": 33,
   "id": "396ff028-9b83-4853-afa6-e90899f26bbc",
   "metadata": {},
   "outputs": [],
   "source": [
    "# 형변환 실습"
   ]
  },
  {
   "cell_type": "code",
   "execution_count": 34,
   "id": "294a2ccd-8d1d-421b-a9c9-5a8a41139695",
   "metadata": {},
   "outputs": [
    {
     "name": "stdout",
     "output_type": "stream",
     "text": [
      "<class 'float'> <class 'int'> <class 'float'> <class 'float'>\n"
     ]
    }
   ],
   "source": [
    "a = 3.\n",
    "b = 6\n",
    "c = .7\n",
    "d = 12.7\n",
    "\n",
    "print(type(a),type(b),type(c),type(d))"
   ]
  },
  {
   "cell_type": "code",
   "execution_count": 36,
   "id": "02ce5eda-cdeb-49f6-af38-8197e4c47bd5",
   "metadata": {},
   "outputs": [
    {
     "ename": "TypeError",
     "evalue": "'float' object is not callable",
     "output_type": "error",
     "traceback": [
      "\u001b[1;31m---------------------------------------------------------------------------\u001b[0m",
      "\u001b[1;31mTypeError\u001b[0m                                 Traceback (most recent call last)",
      "Cell \u001b[1;32mIn[36], line 2\u001b[0m\n\u001b[0;32m      1\u001b[0m \u001b[38;5;66;03m# 형 변환\u001b[39;00m\n\u001b[1;32m----> 2\u001b[0m \u001b[38;5;28mprint\u001b[39m(\u001b[38;5;28;43mfloat\u001b[39;49m\u001b[43m(\u001b[49m\u001b[43mb\u001b[49m\u001b[43m)\u001b[49m)\n\u001b[0;32m      3\u001b[0m \u001b[38;5;28mprint\u001b[39m(\u001b[38;5;28mint\u001b[39m(c))\n\u001b[0;32m      4\u001b[0m \u001b[38;5;28mprint\u001b[39m(\u001b[38;5;28mint\u001b[39m(d))\n",
      "\u001b[1;31mTypeError\u001b[0m: 'float' object is not callable"
     ]
    }
   ],
   "source": [
    "# 형 변환\n",
    "print(float(b))\n",
    "print(int(c))\n",
    "print(int(d))\n",
    "print(float(False))\n",
    "print(complex(3))"
   ]
  },
  {
   "cell_type": "code",
   "execution_count": 37,
   "id": "e7d4fc54-494b-422d-8a0b-7182c6101d2a",
   "metadata": {},
   "outputs": [
    {
     "name": "stdout",
     "output_type": "stream",
     "text": [
      "7\n"
     ]
    }
   ],
   "source": [
    "print(abs(-7))"
   ]
  },
  {
   "cell_type": "code",
   "execution_count": 39,
   "id": "2a617112-f23a-4dc9-8572-9a8a7587a357",
   "metadata": {},
   "outputs": [
    {
     "name": "stdout",
     "output_type": "stream",
     "text": [
      "12 4\n"
     ]
    }
   ],
   "source": [
    "x, y = divmod(100,8)\n",
    "print(x,y)"
   ]
  },
  {
   "cell_type": "code",
   "execution_count": 40,
   "id": "609ecb6d-01dd-4702-86da-72c79e4cc934",
   "metadata": {},
   "outputs": [
    {
     "name": "stdout",
     "output_type": "stream",
     "text": [
      "125 125\n"
     ]
    }
   ],
   "source": [
    "print(pow(5,3), 5**3)"
   ]
  },
  {
   "cell_type": "code",
   "execution_count": 44,
   "id": "8964a5a2-f0fd-471f-b6bd-cef5d2df794d",
   "metadata": {},
   "outputs": [],
   "source": [
    "# 슬라이싱\n",
    "str_s1 = 'Nice Python'"
   ]
  },
  {
   "cell_type": "code",
   "execution_count": 64,
   "id": "83262df3-3b50-4f23-b0de-2f73055041db",
   "metadata": {},
   "outputs": [
    {
     "name": "stdout",
     "output_type": "stream",
     "text": [
      "11\n",
      "Nic\n",
      "Python\n",
      "Nice\n",
      "Nice Python\n",
      "iePt\n",
      "ython\n",
      "ice Pyth\n",
      "Nc yhn\n",
      "nohtyP eciN\n"
     ]
    }
   ],
   "source": [
    "#슬라이싱 연습\n",
    "print(len(str_s1))\n",
    "print(str_s1[0:3])\n",
    "print(str_s1[5:]) #[5:11]\n",
    "print(str_s1[:4])\n",
    "print(str_s1[:len(str_s1)]) #str_s1[:11]\n",
    "print(str_s1[1:9:2]) #1~9까지 가져오는데 2칸 단위로 가져와라\n",
    "print(str_s1[-5:])\n",
    "print(str_s1[1:-2])\n",
    "print(str_s1[::2]) #처음부터 끝까지 2칸 간격으로\n",
    "print(str_s1[::-1])"
   ]
  },
  {
   "cell_type": "code",
   "execution_count": null,
   "id": "f4e28a72-8ad4-429f-8cab-d3243519d121",
   "metadata": {},
   "outputs": [],
   "source": []
  },
  {
   "cell_type": "code",
   "execution_count": null,
   "id": "9581d73b-0b02-4967-af54-14d96742a57b",
   "metadata": {},
   "outputs": [],
   "source": []
  }
 ],
 "metadata": {
  "kernelspec": {
   "display_name": "Python 3 (ipykernel)",
   "language": "python",
   "name": "python3"
  },
  "language_info": {
   "codemirror_mode": {
    "name": "ipython",
    "version": 3
   },
   "file_extension": ".py",
   "mimetype": "text/x-python",
   "name": "python",
   "nbconvert_exporter": "python",
   "pygments_lexer": "ipython3",
   "version": "3.13.2"
  }
 },
 "nbformat": 4,
 "nbformat_minor": 5
}

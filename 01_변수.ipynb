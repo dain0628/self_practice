{
 "cells": [
  {
   "cell_type": "code",
   "execution_count": 2,
   "id": "940dc60b-f5a9-4b1d-8bf6-e0979d3f52e6",
   "metadata": {},
   "outputs": [],
   "source": [
    "# 기본선언"
   ]
  },
  {
   "cell_type": "code",
   "execution_count": 3,
   "id": "a30c40ee-634d-40e9-8625-d31492391db3",
   "metadata": {},
   "outputs": [],
   "source": [
    "n = 700"
   ]
  },
  {
   "cell_type": "code",
   "execution_count": 4,
   "id": "044f1c24-5aed-44a5-9497-e75f2a0612b8",
   "metadata": {},
   "outputs": [],
   "source": [
    "# 출력"
   ]
  },
  {
   "cell_type": "code",
   "execution_count": 5,
   "id": "3bd7aec1-b79a-4e56-a2a8-c7b5d1f92903",
   "metadata": {},
   "outputs": [
    {
     "name": "stdout",
     "output_type": "stream",
     "text": [
      "700\n",
      "<class 'int'>\n"
     ]
    }
   ],
   "source": [
    "print(n)\n",
    "print(type(n))"
   ]
  },
  {
   "cell_type": "code",
   "execution_count": 6,
   "id": "40472035-cb32-420a-baa2-2672716089b0",
   "metadata": {},
   "outputs": [],
   "source": [
    "# 동시선언"
   ]
  },
  {
   "cell_type": "code",
   "execution_count": 7,
   "id": "534ae4b7-fa15-406e-a149-174515470025",
   "metadata": {},
   "outputs": [],
   "source": [
    "x = y = z = 700"
   ]
  },
  {
   "cell_type": "code",
   "execution_count": 9,
   "id": "acd530b4-bfdf-42fc-be0b-36454b5d049a",
   "metadata": {},
   "outputs": [
    {
     "name": "stdout",
     "output_type": "stream",
     "text": [
      "700 700 700\n"
     ]
    }
   ],
   "source": [
    "print (x,y,z)"
   ]
  },
  {
   "cell_type": "code",
   "execution_count": 12,
   "id": "0872b297-371a-4617-b212-ec55badd47f9",
   "metadata": {},
   "outputs": [],
   "source": [
    "# 선언"
   ]
  },
  {
   "cell_type": "code",
   "execution_count": 13,
   "id": "a93973bd-a987-4707-bc8e-9755da80827f",
   "metadata": {},
   "outputs": [],
   "source": [
    "var = 75"
   ]
  },
  {
   "cell_type": "code",
   "execution_count": 14,
   "id": "60b3bd4a-a890-4900-af0a-8fea698cfcf6",
   "metadata": {},
   "outputs": [],
   "source": [
    "#재선언"
   ]
  },
  {
   "cell_type": "code",
   "execution_count": 15,
   "id": "8e69e2fc-b974-4909-8f72-1f307d8786fb",
   "metadata": {},
   "outputs": [],
   "source": [
    "var = 'change value'"
   ]
  },
  {
   "cell_type": "code",
   "execution_count": 17,
   "id": "5fbc4ffc-cfcf-40d3-a9c9-5a9ff4e68581",
   "metadata": {},
   "outputs": [
    {
     "name": "stdout",
     "output_type": "stream",
     "text": [
      "change value\n",
      "<class 'str'>\n"
     ]
    }
   ],
   "source": [
    "print(var)\n",
    "print(type(var))"
   ]
  },
  {
   "cell_type": "code",
   "execution_count": 18,
   "id": "e94ed5e9-7648-4ecc-b673-4e963f240050",
   "metadata": {},
   "outputs": [],
   "source": [
    "#object Reference\n",
    "# 변수 값 할당 상태\n",
    "#1. 타입에 맞는 오브젝트 생성\n",
    "#2. 값 생성\n",
    "#3. 콘솔 출력"
   ]
  },
  {
   "cell_type": "code",
   "execution_count": 19,
   "id": "4d78891a-5ce9-4acc-ba85-eeff8225fee3",
   "metadata": {},
   "outputs": [
    {
     "name": "stdout",
     "output_type": "stream",
     "text": [
      "300\n",
      "300\n"
     ]
    }
   ],
   "source": [
    "#예1)\n",
    "print(300)\n",
    "print(int(300))"
   ]
  },
  {
   "cell_type": "code",
   "execution_count": 21,
   "id": "286685e3-7ee9-499c-a0a2-ad78bde532dd",
   "metadata": {},
   "outputs": [
    {
     "name": "stdout",
     "output_type": "stream",
     "text": [
      "777 <class 'int'>\n"
     ]
    }
   ],
   "source": [
    "#예2\n",
    "# n > 777\n",
    "n = 777\n",
    "print(n, type(n))"
   ]
  },
  {
   "cell_type": "code",
   "execution_count": 22,
   "id": "c8f82e9f-85c9-48e1-af3c-7f8c0081497e",
   "metadata": {},
   "outputs": [],
   "source": [
    "m = n\n",
    "# m > 777 < n"
   ]
  },
  {
   "cell_type": "code",
   "execution_count": 30,
   "id": "045bfb47-cca4-49be-bb5a-09dd66949c06",
   "metadata": {},
   "outputs": [
    {
     "name": "stdout",
     "output_type": "stream",
     "text": [
      "777 777\n",
      "<class 'int'> <class 'int'>\n"
     ]
    }
   ],
   "source": [
    "print(m, n)\n",
    "print(type(m), type(n))"
   ]
  },
  {
   "cell_type": "code",
   "execution_count": 31,
   "id": "81ce834a-fcaa-4c85-acf1-f2572e242adf",
   "metadata": {},
   "outputs": [],
   "source": [
    "m = 400"
   ]
  },
  {
   "cell_type": "code",
   "execution_count": 32,
   "id": "194d5ee0-ceb4-4529-933c-d9f8070ac6fc",
   "metadata": {},
   "outputs": [
    {
     "name": "stdout",
     "output_type": "stream",
     "text": [
      "400\n"
     ]
    }
   ],
   "source": [
    "print(m)"
   ]
  },
  {
   "cell_type": "code",
   "execution_count": 33,
   "id": "208f3033-0901-4a98-8790-a3abd07169bf",
   "metadata": {},
   "outputs": [],
   "source": []
  },
  {
   "cell_type": "code",
   "execution_count": null,
   "id": "503285cf-0252-49f2-abe5-7dbff454dccd",
   "metadata": {},
   "outputs": [],
   "source": []
  }
 ],
 "metadata": {
  "kernelspec": {
   "display_name": "Python 3 (ipykernel)",
   "language": "python",
   "name": "python3"
  },
  "language_info": {
   "codemirror_mode": {
    "name": "ipython",
    "version": 3
   },
   "file_extension": ".py",
   "mimetype": "text/x-python",
   "name": "python",
   "nbconvert_exporter": "python",
   "pygments_lexer": "ipython3",
   "version": "3.13.2"
  }
 },
 "nbformat": 4,
 "nbformat_minor": 5
}
